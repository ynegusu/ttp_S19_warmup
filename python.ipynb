{
 "cells": [
  {
   "cell_type": "code",
   "execution_count": null,
   "metadata": {},
   "outputs": [],
   "source": [
    "# PYTHON\n",
    "# write a function that takes an input, subtracts 1 from it, squares it,\n",
    "# and subtracts 1 again, then run the code below:\n",
    "\n",
    "# write function here\n",
    "\n",
    "\n",
    "#then run this code\n",
    "def math_(function()\n",
    "print(str) def math_fxn(x):\n",
    "          return(((x-1)**2)-1)\n",
    "    \n",
    "x = 10\n",
    "y = math_fxn(x)\n",
    "z = math_fxn(y)\n",
    "print('The value for x is:', x, ' (should be 10)')\n",
    "print('The value for y is:', y, ' (should be 80)')\n",
    "print('The value for z is:', z, ' (should be 6240)')"
   ]
  },
  {
   "cell_type": "code",
   "execution_count": null,
   "metadata": {},
   "outputs": [],
   "source": []
  },
  {
   "cell_type": "code",
   "execution_count": null,
   "metadata": {},
   "outputs": [],
   "source": []
  }
 ],
 "metadata": {
  "kernelspec": {
   "display_name": "Python 3",
   "language": "python",
   "name": "python3"
  },
  "language_info": {
   "codemirror_mode": {
    "name": "ipython",
    "version": 3
   },
   "file_extension": ".py",
   "mimetype": "text/x-python",
   "name": "python",
   "nbconvert_exporter": "python",
   "pygments_lexer": "ipython3",
   "version": "3.7.3"
  }
 },
 "nbformat": 4,
 "nbformat_minor": 2
}
