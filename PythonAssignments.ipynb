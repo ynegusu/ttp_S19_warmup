{
 "cells": [
  {
   "cell_type": "code",
   "execution_count": 3,
   "metadata": {},
   "outputs": [
    {
     "data": {
      "text/plain": [
       "'even'"
      ]
     },
     "execution_count": 3,
     "metadata": {},
     "output_type": "execute_result"
    }
   ],
   "source": [
    "# Write a function called \"isOdd\". Given a number, \"isOdd\" returns whether the given number is odd.\n",
    "\n",
    "def isOdd(x):\n",
    "    if x%2 == 0:\n",
    "        return(\"even\")\n",
    "    if x%2 != 0:\n",
    "        return(\"odd\")\n",
    "\n",
    "isOdd(4)"
   ]
  },
  {
   "cell_type": "code",
   "execution_count": null,
   "metadata": {},
   "outputs": [],
   "source": [
    "#Given a string, \"countWords\" returns a dictionary where each key is a word in the given string\n",
    "#with its value being how many times that word appeared in the given string.\n",
    "\n"
   ]
  }
 ],
 "metadata": {
  "kernelspec": {
   "display_name": "Python 3",
   "language": "python",
   "name": "python3"
  },
  "language_info": {
   "codemirror_mode": {
    "name": "ipython",
    "version": 3
   },
   "file_extension": ".py",
   "mimetype": "text/x-python",
   "name": "python",
   "nbconvert_exporter": "python",
   "pygments_lexer": "ipython3",
   "version": "3.7.3"
  }
 },
 "nbformat": 4,
 "nbformat_minor": 2
}
